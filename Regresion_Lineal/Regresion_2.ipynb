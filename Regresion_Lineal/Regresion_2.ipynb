{
 "cells": [
  {
   "cell_type": "code",
   "execution_count": 10,
   "metadata": {},
   "outputs": [
    {
     "name": "stdout",
     "output_type": "stream",
     "text": [
      "Predictions:[ 95893.13020538 177825.57396433],ActualValues:[ 90575.7  173284.26]\n"
     ]
    }
   ],
   "source": [
    "from sklearn.model_selection import train_test_split\n",
    "from sklearn.linear_model import LinearRegression\n",
    "import pandas as pd \n",
    "d1 = pd.read_excel(\"PROD.xlsx\")\n",
    "df=pd.DataFrame(d1)\n",
    "X = df.drop(['Mat2','Mat1','Additive','Production'],axis=1).values\n",
    "y = df[\"Production\"].values\n",
    "X_train,X_test,y_train,y_test=train_test_split(X,y,test_size=0.8,random_state=42)\n",
    "#model\n",
    "reg = LinearRegression()\n",
    "#Fit the model\n",
    "reg.fit(X_train,y_train)\n",
    "#Predictions\n",
    "y_pred=reg.predict(X_test)\n",
    "print(\"Predictions:{},ActualValues:{}\".format(y_pred[:2],y_test[:2]))"
   ]
  },
  {
   "cell_type": "code",
   "execution_count": 11,
   "metadata": {},
   "outputs": [
    {
     "name": "stdout",
     "output_type": "stream",
     "text": [
      "R^2:0.9989785267255237\n",
      "MSE:8805541.777580816\n",
      "RMSE:2967.4133142487613\n"
     ]
    },
    {
     "name": "stderr",
     "output_type": "stream",
     "text": [
      "c:\\Users\\josep\\AppData\\Local\\Programs\\Python\\Python312\\Lib\\site-packages\\sklearn\\metrics\\_regression.py:483: FutureWarning: 'squared' is deprecated in version 1.4 and will be removed in 1.6. To calculate the root mean squared error, use the function'root_mean_squared_error'.\n",
      "  warnings.warn(\n",
      "c:\\Users\\josep\\AppData\\Local\\Programs\\Python\\Python312\\Lib\\site-packages\\sklearn\\metrics\\_regression.py:483: FutureWarning: 'squared' is deprecated in version 1.4 and will be removed in 1.6. To calculate the root mean squared error, use the function'root_mean_squared_error'.\n",
      "  warnings.warn(\n"
     ]
    }
   ],
   "source": [
    "from sklearn.metrics import mean_squared_error\n",
    "\n",
    "r_squared = reg.score(X_test,y_test)\n",
    "mse = mean_squared_error(y_test,y_pred,squared=True)\n",
    "rmse = mean_squared_error(y_test,y_pred,squared=False)\n",
    "\n",
    "print(\"R^2:{}\".format(r_squared))\n",
    "print(\"MSE:{}\".format(mse))\n",
    "print(\"RMSE:{}\".format(rmse))"
   ]
  }
 ],
 "metadata": {
  "kernelspec": {
   "display_name": "Python 3",
   "language": "python",
   "name": "python3"
  },
  "language_info": {
   "codemirror_mode": {
    "name": "ipython",
    "version": 3
   },
   "file_extension": ".py",
   "mimetype": "text/x-python",
   "name": "python",
   "nbconvert_exporter": "python",
   "pygments_lexer": "ipython3",
   "version": "3.12.2"
  }
 },
 "nbformat": 4,
 "nbformat_minor": 2
}
